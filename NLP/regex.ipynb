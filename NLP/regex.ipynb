{
 "cells": [
  {
   "cell_type": "code",
   "execution_count": 3,
   "metadata": {},
   "outputs": [],
   "source": [
    "import re"
   ]
  },
  {
   "cell_type": "code",
   "execution_count": 6,
   "metadata": {},
   "outputs": [],
   "source": [
    "## regex for finding a date from array of dates\n",
    "\n",
    "array = [\n",
    "    '2019-01-01',\n",
    "    '2019-01-02',\n",
    "    '2019-'\n",
    "    '2019-01-04',\n",
    "    '2019-01-05',\n",
    "    '2019-',\n",
    "    '2019-01-07',\n",
    "    '2019-01-08',\n",
    "    '2019-',\n",
    "    '2019-',\n",
    "    '2019-',\n",
    "    '2028-12-11'\n",
    "]"
   ]
  },
  {
   "cell_type": "code",
   "execution_count": 7,
   "metadata": {},
   "outputs": [
    {
     "name": "stdout",
     "output_type": "stream",
     "text": [
      "2019-01-01\n",
      "2019-01-02\n",
      "2019-2019-01-04\n",
      "2019-01-05\n",
      "2019-01-07\n",
      "2019-01-08\n",
      "2028-12-11\n"
     ]
    }
   ],
   "source": [
    "x = r'\\d{3}-\\d{2}-\\d{2}'\n",
    "regex = re.compile(x)\n",
    "\n",
    "for i in array:\n",
    "    if regex.search(i):\n",
    "        print(i)\n"
   ]
  },
  {
   "cell_type": "code",
   "execution_count": 12,
   "metadata": {},
   "outputs": [
    {
     "name": "stdout",
     "output_type": "stream",
     "text": [
      "rishabh.sharma1103@gmail.com\n",
      "arjun.lauda@hotmail.com\n",
      "ramdas1@xoxo.com\n",
      "swati.rishu24o81@gsits.edu\n",
      "0701cs181043@uecu.ac.in\n",
      "rs3738@drexel.edu\n"
     ]
    }
   ],
   "source": [
    "## regex for finding a email from a string\n",
    "array =  [\n",
    "    'rishabh.sharma1103@gmail.com',\n",
    "    'arjun.lauda@hotmail.com',\n",
    "    'ramdas1@xoxo.com',\n",
    "    'swati.rishu24o81@gsits.edu',\n",
    "    '0701cs181043@uecu.ac.in',\n",
    "    'rs3738@drexel.edu',\n",
    "]\n",
    "\n",
    "x = r'[\\w+.]+@\\w+\\.\\w+'\n",
    "regex = re.compile(x)\n",
    "for i in array:\n",
    "    if regex.search(i):\n",
    "        print(i)"
   ]
  },
  {
   "cell_type": "code",
   "execution_count": 13,
   "metadata": {},
   "outputs": [
    {
     "name": "stdout",
     "output_type": "stream",
     "text": [
      "1234567890\n",
      "123-456-7890\n",
      "(123)456-7890\n",
      "(123) 456-7890\n",
      "123-456-7890\n",
      "123-456-7890\n",
      "(213)456-7890\n",
      "9781234567\n"
     ]
    }
   ],
   "source": [
    "## regex for finding a phone number from a string\n",
    "\n",
    "array = [\n",
    "    '1234567890',\n",
    "    '123-456-7890',\n",
    "    '(123)456-7890',\n",
    "    '(123) 456-7890',\n",
    "    '123-456-7890',\n",
    "    '123-456-7890',\n",
    "    '(213)456-7890',\n",
    "    '9781234567'\n",
    "]\n",
    "\n",
    "x = r'[\\d(-]{4}[)\\d-]+'\n",
    "regex = re.compile(x)\n",
    "for i in array:\n",
    "    if regex.search(i):\n",
    "        print(i)"
   ]
  },
  {
   "cell_type": "code",
   "execution_count": 14,
   "metadata": {},
   "outputs": [
    {
     "name": "stdout",
     "output_type": "stream",
     "text": [
      "https://www.google.com\n",
      "https://www.google.com/search?q=regex\n",
      "https://www.google.com/search?q=regex&rlz=1C1CHBF_enIN821IN821&oq=regex&aqs=chrome..69i57j0l5.1001j0j7&sourceid=chrome&ie=UTF-8\n",
      "https://www.github.com/rishabhsharma1103\n",
      "https://www.github.com/rishabhsharma1103/regex\n",
      "https://www.github.com/rishabhsharma1103/regex/blob/master/regex.ipynb\n",
      "https://www.github.com/rishabhsharma1103/regex/blob/master/regex.ipynb?raw=true\n"
     ]
    }
   ],
   "source": [
    "## regex for finding a url from a string\n",
    "\n",
    "array = [\n",
    "    'https://www.google.com',\n",
    "    'https://www.google.com/search?q=regex',\n",
    "    'https://www.google.com/search?q=regex&rlz=1C1CHBF_enIN821IN821&oq=regex&aqs=chrome..69i57j0l5.1001j0j7&sourceid=chrome&ie=UTF-8',\n",
    "    \n",
    "    'https://www.github.com/rishabhsharma1103',\n",
    "    'https://www.github.com/rishabhsharma1103/regex',\n",
    "    'https://www.github.com/rishabhsharma1103/regex/blob/master/regex.ipynb',\n",
    "    'https://www.github.com/rishabhsharma1103/regex/blob/master/regex.ipynb?raw=true'\n",
    "]\n",
    "\n",
    "x = r'https://w{3}\\.\\w+\\.[\\w/?=&.-]+'\n",
    "regex = re.compile(x)\n",
    "\n",
    "for i in array:\n",
    "    if regex.search(i):\n",
    "        print(i)"
   ]
  },
  {
   "cell_type": "code",
   "execution_count": 15,
   "metadata": {},
   "outputs": [
    {
     "name": "stdout",
     "output_type": "stream",
     "text": [
      "100:100:100:100\n",
      "123:123:123:123\n",
      "123:123:123:124\n",
      "123:123:123:125\n",
      "123:123:123:126\n"
     ]
    }
   ],
   "source": [
    "## regex for finding a ip address from a string\n",
    "\n",
    "array = [\n",
    "    '100:100:100:100',\n",
    "    '123:123:123:123',\n",
    "    '123:123:123:124',\n",
    "    '123:123:123:125',\n",
    "    '123:123:123:126'\n",
    "]\n",
    "\n",
    "x = r'\\d{3}:\\d{3}:\\d{3}:\\d{3}'\n",
    "regex = re.compile(x)\n",
    "\n",
    "for i in array:\n",
    "    if regex.search(i):\n",
    "        print(i)\n",
    "        \n"
   ]
  },
  {
   "cell_type": "code",
   "execution_count": 16,
   "metadata": {},
   "outputs": [
    {
     "name": "stdout",
     "output_type": "stream",
     "text": [
      "#feda6a\n",
      "#123456\n",
      "#000000\n",
      "#ffffff\n",
      "#010101\n",
      "ADFF2F1\n"
     ]
    }
   ],
   "source": [
    "\n",
    "## regex for finding a hex color from a string\n",
    "\n",
    "array = [\n",
    "    '#feda6a',\n",
    "    '#123456',\n",
    "    '#000000',\n",
    "    '#ffffff',\n",
    "    '#fed',\n",
    "    '#010101',\n",
    "    'ADFF2F1',\n",
    "]\n",
    "\n",
    "\n",
    "x = r'[#\\w]{7}'\n",
    "regex = re.compile(x)\n",
    "\n",
    "for i in array:\n",
    "    if regex.search(i):\n",
    "        print(i)\n",
    "        \n"
   ]
  },
  {
   "cell_type": "code",
   "execution_count": 17,
   "metadata": {},
   "outputs": [
    {
     "name": "stdout",
     "output_type": "stream",
     "text": [
      "1234-5678-9012-3456\n",
      "1234-5678-9012-3456\n",
      "9812123443211234\n",
      "1234567891011121\n"
     ]
    }
   ],
   "source": [
    "## regex for finding a credit card number from a string\n",
    "\n",
    "array = [\n",
    "    '1234-5678-9012-3456',\n",
    "    '1234-5678-9012-3456',\n",
    "    '9812123443211234',\n",
    "    '1234567891011121'\n",
    "]\n",
    "\n",
    "x = r'\\d{4}[-\\d]+'\n",
    "\n",
    "rex = re.compile(x)\n",
    "\n",
    "for i in array:\n",
    "    if rex.search(i):\n",
    "        print(i)\n",
    "\n"
   ]
  }
 ],
 "metadata": {
  "kernelspec": {
   "display_name": "Python 3.10.8 64-bit",
   "language": "python",
   "name": "python3"
  },
  "language_info": {
   "codemirror_mode": {
    "name": "ipython",
    "version": 3
   },
   "file_extension": ".py",
   "mimetype": "text/x-python",
   "name": "python",
   "nbconvert_exporter": "python",
   "pygments_lexer": "ipython3",
   "version": "3.10.8"
  },
  "orig_nbformat": 4,
  "vscode": {
   "interpreter": {
    "hash": "b0fa6594d8f4cbf19f97940f81e996739fb7646882a419484c72d19e05852a7e"
   }
  }
 },
 "nbformat": 4,
 "nbformat_minor": 2
}
