{
 "cells": [
  {
   "cell_type": "code",
   "execution_count": 1,
   "metadata": {},
   "outputs": [],
   "source": [
    "## creating a word2vec model to find similar words to a given word from a corpus from scratch"
   ]
  },
  {
   "cell_type": "code",
   "execution_count": 2,
   "metadata": {},
   "outputs": [],
   "source": [
    "text = '''Machine learning is the study of computer algorithms that \\\n",
    "improve automatically through experience. It is seen as a \\\n",
    "subset of artificial intelligence. Machine learning algorithms \\\n",
    "build a mathematical model based on sample data, known as \\\n",
    "training data, in order to make predictions or decisions without \\\n",
    "being explicitly programmed to do so. Machine learning algorithms \\\n",
    "are used in a wide variety of applications, such as email filtering \\\n",
    "and computer vision, where it is difficult or infeasible to develop \\\n",
    "conventional algorithms to perform the needed tasks.'''"
   ]
  },
  {
   "cell_type": "code",
   "execution_count": 3,
   "metadata": {},
   "outputs": [],
   "source": [
    "import re\n",
    "\n",
    "def tokenize(text):\n",
    "    text = text.lower()\n",
    "    pattern = re.compile(r'[A-Za-z]+[\\w^\\']*|[\\w^\\']*[A-Za-z]+[\\w^\\']*')\n",
    "    return pattern.findall(text)"
   ]
  },
  {
   "cell_type": "code",
   "execution_count": 4,
   "metadata": {},
   "outputs": [],
   "source": [
    "tokenized = tokenize(text)"
   ]
  },
  {
   "cell_type": "code",
   "execution_count": 6,
   "metadata": {},
   "outputs": [],
   "source": [
    "def mapping(tokenized):\n",
    "    word2id = {}\n",
    "    id2word = {}\n",
    "    for i, word in enumerate(tokenized):\n",
    "        word2id[word] = i\n",
    "        id2word[i] = word\n",
    "    return word2id, id2word"
   ]
  },
  {
   "cell_type": "code",
   "execution_count": 8,
   "metadata": {},
   "outputs": [],
   "source": [
    "word2id, id2word = mapping(tokenized=tokenized)"
   ]
  },
  {
   "cell_type": "code",
   "execution_count": 14,
   "metadata": {},
   "outputs": [],
   "source": [
    "\n",
    "import numpy as np\n",
    "\n",
    "def one_hot(word2id, id2word):\n",
    "    vocab_size = len(word2id)\n",
    "    one_hot = np.zeros((vocab_size, vocab_size))\n",
    "    for i in range(vocab_size):\n",
    "        one_hot[i, i] = 1\n",
    "    return one_hot\n",
    "\n",
    "one_hot = one_hot(word2id=word2id, id2word=id2word)"
   ]
  },
  {
   "cell_type": "code",
   "execution_count": 15,
   "metadata": {},
   "outputs": [],
   "source": [
    "\n",
    "def window(tokenized, window_size):\n",
    "    for i, word in enumerate(tokenized):\n",
    "        for j in range(1, window_size+1):\n",
    "            if i-j >= 0:\n",
    "                yield word, tokenized[i-j]\n",
    "            if i+j < len(tokenized):\n",
    "                yield word, tokenized[i+j]\n",
    "\n",
    "window = window(tokenized=tokenized, window_size=2)\n"
   ]
  },
  {
   "cell_type": "code",
   "execution_count": 24,
   "metadata": {},
   "outputs": [],
   "source": [
    "\n",
    "def word2vec(window, word2id, id2word, one_hot, learning_rate=0.01, epochs=1000):\n",
    "\n",
    "    vocab_size = len(word2id)\n",
    "    weights_0_1 = np.random.rand(vocab_size, vocab_size) - 0.5\n",
    "    weights_1_2 = np.random.rand(vocab_size, vocab_size) - 0.5\n",
    "\n",
    "    for i in range(epochs):\n",
    "        for center_word, context_word in window:\n",
    "            center_word_id = word2id[center_word]\n",
    "            context_word_id = word2id[context_word]\n",
    "            center_word_vector = one_hot[center_word_id]\n",
    "            context_word_vector = one_hot[context_word_id]\n",
    "            context_word_prediction = np.dot(weights_0_1, center_word_vector)\n",
    "            context_word_prediction = np.dot(weights_1_2, context_word_prediction)\n",
    "            error = context_word_vector - context_word_prediction\n",
    "            weights_0_1 += learning_rate * np.outer(error, center_word_vector)\n",
    "            weights_1_2 += learning_rate * np.outer(error, context_word_prediction)\n",
    "\n",
    "    return weights_0_1, weights_1_2"
   ]
  },
  {
   "cell_type": "code",
   "execution_count": 25,
   "metadata": {},
   "outputs": [],
   "source": [
    "\n",
    "def softmax(x):\n",
    "    return np.exp(x) / np.sum(np.exp(x))\n",
    "\n",
    "\n",
    "w1, w2 = word2vec(window=window, word2id=word2id, id2word=id2word, one_hot=one_hot)"
   ]
  },
  {
   "cell_type": "code",
   "execution_count": 28,
   "metadata": {},
   "outputs": [],
   "source": [
    "\n",
    "def similar_words(word, word2id, id2word, w1, w2):\n",
    "    word_id = word2id[word]\n",
    "    word_vector = w1[word_id]\n",
    "    scores = np.dot(w2, word_vector)\n",
    "    scores = softmax(scores)\n",
    "    scores = list(zip(scores, id2word.values()))\n",
    "    scores.sort(reverse=True)\n",
    "    return scores"
   ]
  },
  {
   "cell_type": "code",
   "execution_count": 29,
   "metadata": {},
   "outputs": [
    {
     "data": {
      "text/plain": [
       "[(0.06192880426898899, 'model'),\n",
       " (0.048472293523117695, 'or'),\n",
       " (0.04578084882078851, 'data'),\n",
       " (0.04392987555000341, 'so'),\n",
       " (0.03191532715774098, 'do'),\n",
       " (0.03127402324165843, 'known'),\n",
       " (0.03015574450460308, 'to'),\n",
       " (0.03012783594071001, 'algorithms'),\n",
       " (0.0300010530192087, 'computer'),\n",
       " (0.02534138143630273, 'in'),\n",
       " (0.0237606665724067, 'learning'),\n",
       " (0.02349957436157881, 'mathematical'),\n",
       " (0.02283146449290461, 'of'),\n",
       " (0.02158901328803288, 'sample'),\n",
       " (0.021193616597964, 'training'),\n",
       " (0.020429782897815794, 'learning'),\n",
       " (0.02027805971379298, 'wide'),\n",
       " (0.01918669346373154, 'build'),\n",
       " (0.017672554685059755, 'experience'),\n",
       " (0.01713739769174345, 'order'),\n",
       " (0.015907122983488713, 'in'),\n",
       " (0.015545745403052338, 'explicitly'),\n",
       " (0.015218817959237293, 'artificial'),\n",
       " (0.014531269886488592, 'improve'),\n",
       " (0.01451535755939659, 'without'),\n",
       " (0.014374461462038426, 'a'),\n",
       " (0.014204905267399122, 'make'),\n",
       " (0.014182781581766663, 'on'),\n",
       " (0.013940244092935983, 'learning'),\n",
       " (0.013909037662249216, 'data'),\n",
       " (0.013839171696753406, 'decisions'),\n",
       " (0.01370185833341296, 'are'),\n",
       " (0.013550428160511418, 'algorithms'),\n",
       " (0.01330710690440206, 'a'),\n",
       " (0.01241092948467508, 'programmed'),\n",
       " (0.011975953277779951, 'machine'),\n",
       " (0.011365805736166521, 'to'),\n",
       " (0.010737587701711434, 'it'),\n",
       " (0.010526423820852279, 'variety'),\n",
       " (0.01014507692669752, 'that'),\n",
       " (0.009995283431430075, 'seen'),\n",
       " (0.009682786385422729, 'intelligence'),\n",
       " (0.009649577521955527, 'being'),\n",
       " (0.00950704301650999, 'a'),\n",
       " (0.009178929504689608, 'predictions'),\n",
       " (0.008678927776869644, 'as'),\n",
       " (0.008619928930151434, 'based'),\n",
       " (0.00838826982369369, 'study'),\n",
       " (0.0077176986339698005, 'algorithms'),\n",
       " (0.00764926101878362, 'is'),\n",
       " (0.007574422485553547, 'machine'),\n",
       " (0.007030318475002767, 'of'),\n",
       " (0.0069915053333505055, 'automatically'),\n",
       " (0.006776258286709808, 'used'),\n",
       " (0.006195482926505298, 'the'),\n",
       " (0.005610682182024156, 'is'),\n",
       " (0.005111592235506623, 'as'),\n",
       " (0.004131838809909829, 'subset'),\n",
       " (0.004062510892501245, 'through'),\n",
       " (0.0030515852002914296, 'machine')]"
      ]
     },
     "execution_count": 29,
     "metadata": {},
     "output_type": "execute_result"
    }
   ],
   "source": [
    "\n",
    "similar_words(word='machine', word2id=word2id, id2word=id2word, w1=w1, w2=w2)"
   ]
  },
  {
   "cell_type": "code",
   "execution_count": null,
   "metadata": {},
   "outputs": [],
   "source": []
  }
 ],
 "metadata": {
  "kernelspec": {
   "display_name": "Python 3.10.8 64-bit",
   "language": "python",
   "name": "python3"
  },
  "language_info": {
   "codemirror_mode": {
    "name": "ipython",
    "version": 3
   },
   "file_extension": ".py",
   "mimetype": "text/x-python",
   "name": "python",
   "nbconvert_exporter": "python",
   "pygments_lexer": "ipython3",
   "version": "3.10.8"
  },
  "orig_nbformat": 4,
  "vscode": {
   "interpreter": {
    "hash": "b0fa6594d8f4cbf19f97940f81e996739fb7646882a419484c72d19e05852a7e"
   }
  }
 },
 "nbformat": 4,
 "nbformat_minor": 2
}
